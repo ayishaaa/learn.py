{
  "nbformat": 4,
  "nbformat_minor": 0,
  "metadata": {
    "colab": {
      "name": "TASK 1",
      "provenance": [],
      "include_colab_link": true
    },
    "kernelspec": {
      "name": "python3",
      "display_name": "Python 3"
    },
    "language_info": {
      "name": "python"
    }
  },
  "cells": [
    {
      "cell_type": "markdown",
      "metadata": {
        "id": "view-in-github",
        "colab_type": "text"
      },
      "source": [
        "<a href=\"https://colab.research.google.com/github/ayishaaa/learn.py/blob/main/TASK_1.ipynb\" target=\"_parent\"><img src=\"https://colab.research.google.com/assets/colab-badge.svg\" alt=\"Open In Colab\"/></a>"
      ]
    },
    {
      "cell_type": "markdown",
      "metadata": {
        "id": "q-yWxfWESiQo"
      },
      "source": [
        "1.Write a program that uses input to prompt a user for their name and then welcomes them."
      ]
    },
    {
      "cell_type": "code",
      "metadata": {
        "id": "9ikpRxqMSxu0",
        "colab": {
          "base_uri": "https://localhost:8080/"
        },
        "outputId": "479b47d4-db77-4368-b0c7-3f729e2dbbc5"
      },
      "source": [
        "#please provide your answer here below this line\n",
        "a=input(\"enter a name\")\n",
        "print(\"hello\"+str(a))\n",
        "print(\"welcome to repo\")"
      ],
      "execution_count": 1,
      "outputs": [
        {
          "output_type": "stream",
          "text": [
            "enter a nameAyisha\n",
            "helloAyisha\n",
            "welcome to repo\n"
          ],
          "name": "stdout"
        }
      ]
    },
    {
      "cell_type": "markdown",
      "metadata": {
        "id": "Ay5OdxguS-2Z"
      },
      "source": [
        "2.Write a program which prompts the user for a Celsius temperature, convert the temperature to Fahrenheit, and print out the converted temperature."
      ]
    },
    {
      "cell_type": "code",
      "metadata": {
        "id": "MMv2yWNtTgEu",
        "colab": {
          "base_uri": "https://localhost:8080/"
        },
        "outputId": "47067f40-4e43-45e8-f6e0-6d76c8dcaded"
      },
      "source": [
        "#please provide your answer here below this line\n",
        "Celsius=float(input(\"enter in Celsius\"))\n",
        "Fahrenheit=(Celsius*1.8)+32\n",
        "print(Fahrenheit)"
      ],
      "execution_count": 2,
      "outputs": [
        {
          "output_type": "stream",
          "text": [
            "enter in Celsius42\n",
            "107.60000000000001\n"
          ],
          "name": "stdout"
        }
      ]
    },
    {
      "cell_type": "markdown",
      "metadata": {
        "id": "v6O1a198TpNd"
      },
      "source": [
        "3.Write a Python program to convert degree to radian."
      ]
    },
    {
      "cell_type": "code",
      "metadata": {
        "id": "27Jj4_D0UQBA",
        "colab": {
          "base_uri": "https://localhost:8080/"
        },
        "outputId": "148a2e89-e683-4701-c5be-372061bb5eb3"
      },
      "source": [
        "#please provide your answer here below this line\n",
        "pi = 22/7\n",
        "degree = 5\n",
        "Radian = (degree * pi)/180\n",
        "print(Radian)"
      ],
      "execution_count": 3,
      "outputs": [
        {
          "output_type": "stream",
          "text": [
            "0.0873015873015873\n"
          ],
          "name": "stdout"
        }
      ]
    }
  ]
}